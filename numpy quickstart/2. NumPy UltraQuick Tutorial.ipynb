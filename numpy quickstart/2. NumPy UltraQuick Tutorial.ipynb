{
 "cells": [
  {
   "cell_type": "markdown",
   "metadata": {},
   "source": [
    "# NumPy UltraQuick Tutorial\n",
    "\n",
    "NumPy is a Python library for creating and manipulating vectors and matrices. Coresponding Google Collab tutorial is at https://colab.research.google.com/github/google/eng-edu/blob/master/ml/cc/exercises/numpy_ultraquick_tutorial.ipynb\n"
   ]
  },
  {
   "cell_type": "code",
   "execution_count": 2,
   "metadata": {},
   "outputs": [],
   "source": [
    "import numpy as np "
   ]
  },
  {
   "cell_type": "markdown",
   "metadata": {},
   "source": [
    "## Populate arrays with specific numbers\n",
    "\n",
    "Call `np.array` to create a NumPy matrix with your own hand-picked values. For example, the following call to `np.array` creates an 8-element vector:"
   ]
  },
  {
   "cell_type": "code",
   "execution_count": 10,
   "metadata": {},
   "outputs": [
    {
     "name": "stdout",
     "output_type": "stream",
     "text": [
      "[ 1 23  4  5]\n",
      "[[ 6  5]\n",
      " [11  7]\n",
      " [ 4  8]]\n",
      "[[0 0]\n",
      " [0 0]\n",
      " [0 0]]\n",
      "[[1 1]\n",
      " [1 1]\n",
      " [1 1]]\n"
     ]
    }
   ],
   "source": [
    "onedarray = np.array([1,23,4,5])\n",
    "print(onedarray)\n",
    "\n",
    "# 2D array \n",
    "two_dimensional_array = np.array([[6, 5], [11, 7], [4, 8]])\n",
    "print(two_dimensional_array)\n",
    "\n",
    "# populate with all zeros \n",
    "allzeros = np.zeros((3,2), dtype=int)\n",
    "print(allzeros)\n",
    "\n",
    "# populate with all ones \n",
    "allones = np.ones((3,2), dtype=int)\n",
    "print(allones)\n"
   ]
  },
  {
   "cell_type": "code",
   "execution_count": 13,
   "metadata": {},
   "outputs": [
    {
     "name": "stdout",
     "output_type": "stream",
     "text": [
      "[67 98 78 69 87 91]\n",
      "[0.71082696 0.59525689 0.33439355 0.45940016 0.98485765 0.86443266]\n"
     ]
    }
   ],
   "source": [
    "# Populate arrays with sequences of numbers\n",
    "\n",
    "random_integers_between_50_and_100 = np.random.randint(low=50, high=101, size=(6))\n",
    "print(random_integers_between_50_and_100)\n",
    "\n",
    "# Random floats \n",
    "random_floats_between_0_and_1 = np.random.random([6])\n",
    "print(random_floats_between_0_and_1) "
   ]
  },
  {
   "cell_type": "markdown",
   "metadata": {},
   "source": [
    "### Mathematical Operations on NumPy Operands\n",
    "\n",
    "If you want to add or subtract two vectors or matrices, linear algebra requires that the two operands have the same dimensions. Furthermore, if you want to multiply two vectors or matrices, linear algebra imposes strict rules on the dimensional compatibility of operands. Fortunately, NumPy uses a trick called broadcasting https://developers.google.com/machine-learning/glossary/#broadcasting to virtually expand the smaller operand to dimensions compatible for linear algebra. For example, the following operation uses broadcasting to add 2.0 to the value of every item in the vector created in the previous code cell:\n"
   ]
  },
  {
   "cell_type": "code",
   "execution_count": 15,
   "metadata": {},
   "outputs": [
    {
     "name": "stdout",
     "output_type": "stream",
     "text": [
      "[2.71082696 2.59525689 2.33439355 2.45940016 2.98485765 2.86443266]\n",
      "[201 294 234 207 261 273]\n"
     ]
    }
   ],
   "source": [
    "random_floats_between_2_and_3 = random_floats_between_0_and_1 + 2.0\n",
    "print(random_floats_between_2_and_3)\n",
    "\n",
    "# The following operation also relies on broadcasting to multiply each cell in a vector by 3:\n",
    "random_integers_between_150_and_300 = random_integers_between_50_and_100 * 3\n",
    "print(random_integers_between_150_and_300)"
   ]
  },
  {
   "cell_type": "markdown",
   "metadata": {},
   "source": [
    "### Task 1: Create a Linear Dataset\n",
    "Your goal is to create a simple dataset consisting of a single feature and a label as follows:\n",
    "\n",
    "Assign a sequence of integers from 6 to 20 (inclusive) to a NumPy array named feature.\n",
    "Assign 15 values to a NumPy array named label such that:\n",
    "   label = (3)(feature) + 4\n",
    "For example, the first value for label should be:\n",
    "\n",
    "  label = (3)(6) + 4 = 22"
   ]
  },
  {
   "cell_type": "code",
   "execution_count": 19,
   "metadata": {},
   "outputs": [
    {
     "name": "stdout",
     "output_type": "stream",
     "text": [
      "[ 6  7  8  9 10 11 12 13 14 15 16 17 18 19 20]\n",
      "[22 25 28 31 34 37 40 43 46 49 52 55 58 61 64]\n"
     ]
    }
   ],
   "source": [
    "# Assign a sequence of integers from 6 to 20 (inclusive) to a NumPy array named feature.\n",
    "feature = np.arange(6, 21, dtype=int)\n",
    "print(feature)\n",
    "\n",
    "# Assign 15 values to a NumPy array named label such that:\n",
    "# label = (3)(feature) + 4\n",
    "label = 3*feature + 4\n",
    "print(label)\n",
    "\n"
   ]
  },
  {
   "cell_type": "markdown",
   "metadata": {},
   "source": [
    "### Task 2: Add Some Noise to the Dataset\n",
    "\n",
    "To make your dataset a little more realistic, insert a little random noise into each element of the label array you already created. To be more precise, modify each value assigned to label by adding a different random floating-point value between -2 and +2.\n",
    "\n",
    "Don't rely on broadcasting. Instead, create a noise array having the same dimension as label."
   ]
  },
  {
   "cell_type": "code",
   "execution_count": 20,
   "metadata": {},
   "outputs": [
    {
     "name": "stdout",
     "output_type": "stream",
     "text": [
      "[21.9293552  25.01439005 27.95017636 30.98997269 34.00524078 37.13928836\n",
      " 39.92414082 42.95090865 45.93672745 49.03121633 52.13274978 54.86328484\n",
      " 58.1134519  61.02586309 64.08078877]\n"
     ]
    }
   ],
   "source": [
    "noise = np.random.normal(0, .1, label.shape)\n",
    "label = label + noise \n",
    "print(label)"
   ]
  },
  {
   "cell_type": "markdown",
   "metadata": {},
   "source": [
    "### Next steps \n",
    "\n",
    "https://numpy.org/devdocs/user/quickstart.html"
   ]
  }
 ],
 "metadata": {
  "kernelspec": {
   "display_name": "Python 3",
   "language": "python",
   "name": "python3"
  },
  "language_info": {
   "codemirror_mode": {
    "name": "ipython",
    "version": 3
   },
   "file_extension": ".py",
   "mimetype": "text/x-python",
   "name": "python",
   "nbconvert_exporter": "python",
   "pygments_lexer": "ipython3",
   "version": "3.8.3"
  }
 },
 "nbformat": 4,
 "nbformat_minor": 4
}
